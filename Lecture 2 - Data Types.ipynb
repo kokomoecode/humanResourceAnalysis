{
 "cells": [
  {
   "cell_type": "code",
   "execution_count": 2,
   "id": "2c4740f6",
   "metadata": {},
   "outputs": [
    {
     "data": {
      "text/plain": [
       "str"
      ]
     },
     "execution_count": 2,
     "metadata": {},
     "output_type": "execute_result"
    }
   ],
   "source": [
    "#str \n",
    "x = \"This is a string\"\n",
    "type(x)"
   ]
  },
  {
   "cell_type": "code",
   "execution_count": 3,
   "id": "a8633e20",
   "metadata": {},
   "outputs": [
    {
     "data": {
      "text/plain": [
       "int"
      ]
     },
     "execution_count": 3,
     "metadata": {},
     "output_type": "execute_result"
    }
   ],
   "source": [
    "#number\n",
    "y = 5\n",
    "type(y)"
   ]
  },
  {
   "cell_type": "code",
   "execution_count": 4,
   "id": "6a275c94",
   "metadata": {},
   "outputs": [
    {
     "data": {
      "text/plain": [
       "str"
      ]
     },
     "execution_count": 4,
     "metadata": {},
     "output_type": "execute_result"
    }
   ],
   "source": [
    "z = \"\"\n",
    "type(z)"
   ]
  },
  {
   "cell_type": "code",
   "execution_count": 6,
   "id": "8825db82",
   "metadata": {},
   "outputs": [
    {
     "data": {
      "text/plain": [
       "int"
      ]
     },
     "execution_count": 6,
     "metadata": {},
     "output_type": "execute_result"
    }
   ],
   "source": [
    "#Numeric Types Int Float\n",
    "number = 5\n",
    "type(number)"
   ]
  },
  {
   "cell_type": "code",
   "execution_count": 7,
   "id": "2a755642",
   "metadata": {},
   "outputs": [
    {
     "data": {
      "text/plain": [
       "int"
      ]
     },
     "execution_count": 7,
     "metadata": {},
     "output_type": "execute_result"
    }
   ],
   "source": [
    "number2 = 25\n",
    "type(number2)"
   ]
  },
  {
   "cell_type": "code",
   "execution_count": 8,
   "id": "d496295d",
   "metadata": {},
   "outputs": [
    {
     "data": {
      "text/plain": [
       "int"
      ]
     },
     "execution_count": 8,
     "metadata": {},
     "output_type": "execute_result"
    }
   ],
   "source": [
    "x = number * number2\n",
    "type(x)"
   ]
  },
  {
   "cell_type": "code",
   "execution_count": 9,
   "id": "0f50857c",
   "metadata": {},
   "outputs": [
    {
     "data": {
      "text/plain": [
       "float"
      ]
     },
     "execution_count": 9,
     "metadata": {},
     "output_type": "execute_result"
    }
   ],
   "source": [
    "numberFloat = 1.5\n",
    "type(numberFloat)"
   ]
  },
  {
   "cell_type": "code",
   "execution_count": 10,
   "id": "88249a65",
   "metadata": {},
   "outputs": [
    {
     "name": "stdout",
     "output_type": "stream",
     "text": [
      "4.0\n"
     ]
    }
   ],
   "source": [
    "number2Float = 2.5\n",
    "t= numberFloat + number2Float\n",
    "print(t)"
   ]
  },
  {
   "cell_type": "code",
   "execution_count": 11,
   "id": "4fd343f4",
   "metadata": {},
   "outputs": [
    {
     "data": {
      "text/plain": [
       "float"
      ]
     },
     "execution_count": 11,
     "metadata": {},
     "output_type": "execute_result"
    }
   ],
   "source": [
    "type(t)"
   ]
  },
  {
   "cell_type": "code",
   "execution_count": 12,
   "id": "708b90f2",
   "metadata": {},
   "outputs": [
    {
     "name": "stdout",
     "output_type": "stream",
     "text": [
      "129.0\n"
     ]
    }
   ],
   "source": [
    "# integer and float together\n",
    "mix = x + t\n",
    "print(mix)"
   ]
  },
  {
   "cell_type": "code",
   "execution_count": 13,
   "id": "a6ae9514",
   "metadata": {},
   "outputs": [
    {
     "data": {
      "text/plain": [
       "float"
      ]
     },
     "execution_count": 13,
     "metadata": {},
     "output_type": "execute_result"
    }
   ],
   "source": [
    "type(mix)"
   ]
  },
  {
   "cell_type": "code",
   "execution_count": 15,
   "id": "ad6d61a8",
   "metadata": {},
   "outputs": [],
   "source": [
    "#Sequence Types List, Tuple"
   ]
  },
  {
   "cell_type": "code",
   "execution_count": 16,
   "id": "922897ab",
   "metadata": {},
   "outputs": [
    {
     "data": {
      "text/plain": [
       "list"
      ]
     },
     "execution_count": 16,
     "metadata": {},
     "output_type": "execute_result"
    }
   ],
   "source": [
    "ourlist = []\n",
    "type(ourlist)"
   ]
  },
  {
   "cell_type": "code",
   "execution_count": 18,
   "id": "3a7a5290",
   "metadata": {},
   "outputs": [
    {
     "data": {
      "text/plain": [
       "tuple"
      ]
     },
     "execution_count": 18,
     "metadata": {},
     "output_type": "execute_result"
    }
   ],
   "source": [
    "tuple = ()\n",
    "type(tuple)"
   ]
  },
  {
   "cell_type": "code",
   "execution_count": 19,
   "id": "397c30f3",
   "metadata": {},
   "outputs": [],
   "source": [
    "#List objects are changable, tuple objects are not"
   ]
  },
  {
   "cell_type": "code",
   "execution_count": 20,
   "id": "73a482fb",
   "metadata": {},
   "outputs": [
    {
     "name": "stdout",
     "output_type": "stream",
     "text": [
      "['samsung', 'xiomi', 'apple', 'nokia']\n"
     ]
    }
   ],
   "source": [
    "phones = [\"samsung\",\"xiomi\",\"apple\",\"nokia\"]\n",
    "print(phones)"
   ]
  },
  {
   "cell_type": "code",
   "execution_count": 21,
   "id": "e36104a8",
   "metadata": {},
   "outputs": [
    {
     "name": "stdout",
     "output_type": "stream",
     "text": [
      "samsung\n"
     ]
    }
   ],
   "source": [
    "print(phones[0])"
   ]
  },
  {
   "cell_type": "code",
   "execution_count": 22,
   "id": "91cc4803",
   "metadata": {},
   "outputs": [],
   "source": [
    "phones[0] = 'Oppo'"
   ]
  },
  {
   "cell_type": "code",
   "execution_count": 23,
   "id": "75a4281d",
   "metadata": {},
   "outputs": [
    {
     "name": "stdout",
     "output_type": "stream",
     "text": [
      "['Oppo', 'xiomi', 'apple', 'nokia']\n"
     ]
    }
   ],
   "source": [
    "print(phones)"
   ]
  },
  {
   "cell_type": "code",
   "execution_count": 24,
   "id": "cd23f5ca",
   "metadata": {},
   "outputs": [],
   "source": [
    "fruits = (\"apple\",\"orange\",\"watermelon\")"
   ]
  },
  {
   "cell_type": "code",
   "execution_count": 26,
   "id": "03cf892e",
   "metadata": {},
   "outputs": [],
   "source": [
    "# fruits[0] = \"pineapple\"\n",
    "# 'tuple' object does not support item assignment"
   ]
  },
  {
   "cell_type": "code",
   "execution_count": 27,
   "id": "678cd4b5",
   "metadata": {},
   "outputs": [],
   "source": [
    "# Mapping Dictionary"
   ]
  },
  {
   "cell_type": "code",
   "execution_count": 28,
   "id": "b2092d9e",
   "metadata": {},
   "outputs": [
    {
     "data": {
      "text/plain": [
       "dict"
      ]
     },
     "execution_count": 28,
     "metadata": {},
     "output_type": "execute_result"
    }
   ],
   "source": [
    "ourdictionary = {}\n",
    "type(ourdictionary)"
   ]
  },
  {
   "cell_type": "code",
   "execution_count": 29,
   "id": "dc6c09d6",
   "metadata": {},
   "outputs": [],
   "source": [
    "fruits = {\"apple\":5,\"banana\":10,\"watermelon\":20}"
   ]
  },
  {
   "cell_type": "code",
   "execution_count": 30,
   "id": "fcf256bc",
   "metadata": {},
   "outputs": [
    {
     "name": "stdout",
     "output_type": "stream",
     "text": [
      "{'apple': 5, 'banana': 10, 'watermelon': 20}\n"
     ]
    }
   ],
   "source": [
    "print(fruits)"
   ]
  },
  {
   "cell_type": "code",
   "execution_count": 31,
   "id": "5a4a72fa",
   "metadata": {},
   "outputs": [
    {
     "data": {
      "text/plain": [
       "dict"
      ]
     },
     "execution_count": 31,
     "metadata": {},
     "output_type": "execute_result"
    }
   ],
   "source": [
    "type(fruits)"
   ]
  },
  {
   "cell_type": "code",
   "execution_count": 32,
   "id": "29a9d144",
   "metadata": {},
   "outputs": [
    {
     "name": "stdout",
     "output_type": "stream",
     "text": [
      "5\n"
     ]
    }
   ],
   "source": [
    "print(fruits[\"apple\"])"
   ]
  },
  {
   "cell_type": "code",
   "execution_count": 35,
   "id": "78bed817",
   "metadata": {},
   "outputs": [
    {
     "name": "stdout",
     "output_type": "stream",
     "text": [
      "20\n"
     ]
    }
   ],
   "source": [
    "print(fruits[\"watermelon\"])"
   ]
  },
  {
   "cell_type": "code",
   "execution_count": 38,
   "id": "3710bd23",
   "metadata": {},
   "outputs": [],
   "source": [
    "#boolean bool\n",
    "boolean= True"
   ]
  },
  {
   "cell_type": "code",
   "execution_count": 39,
   "id": "0b6e6af7",
   "metadata": {},
   "outputs": [
    {
     "data": {
      "text/plain": [
       "bool"
      ]
     },
     "execution_count": 39,
     "metadata": {},
     "output_type": "execute_result"
    }
   ],
   "source": [
    "type(boolean)"
   ]
  },
  {
   "cell_type": "code",
   "execution_count": 41,
   "id": "b33e7ceb",
   "metadata": {},
   "outputs": [
    {
     "name": "stdout",
     "output_type": "stream",
     "text": [
      "False\n"
     ]
    }
   ],
   "source": [
    "b = 5 == 7\n",
    "print(b)"
   ]
  },
  {
   "cell_type": "code",
   "execution_count": null,
   "id": "93ce42e2",
   "metadata": {},
   "outputs": [],
   "source": []
  }
 ],
 "metadata": {
  "kernelspec": {
   "display_name": "Python 3 (ipykernel)",
   "language": "python",
   "name": "python3"
  },
  "language_info": {
   "codemirror_mode": {
    "name": "ipython",
    "version": 3
   },
   "file_extension": ".py",
   "mimetype": "text/x-python",
   "name": "python",
   "nbconvert_exporter": "python",
   "pygments_lexer": "ipython3",
   "version": "3.9.13"
  }
 },
 "nbformat": 4,
 "nbformat_minor": 5
}
