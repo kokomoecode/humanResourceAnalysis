{
 "cells": [
  {
   "cell_type": "code",
   "execution_count": 1,
   "id": "5d46177a",
   "metadata": {},
   "outputs": [
    {
     "name": "stdout",
     "output_type": "stream",
     "text": [
      "['red', 'green', 'yellow']\n"
     ]
    }
   ],
   "source": [
    "apples = ['red','green','yellow']\n",
    "print(apples)"
   ]
  },
  {
   "cell_type": "code",
   "execution_count": 3,
   "id": "0c370af8",
   "metadata": {},
   "outputs": [],
   "source": [
    "apples[0] = 'yellow'"
   ]
  },
  {
   "cell_type": "code",
   "execution_count": 4,
   "id": "ffba9cd9",
   "metadata": {},
   "outputs": [
    {
     "name": "stdout",
     "output_type": "stream",
     "text": [
      "['yellow', 'green', 'yellow']\n"
     ]
    }
   ],
   "source": [
    "print(apples)"
   ]
  },
  {
   "cell_type": "code",
   "execution_count": 5,
   "id": "ed3fb51f",
   "metadata": {},
   "outputs": [],
   "source": [
    "randomList = [123,\"hey\",\"test\",32]"
   ]
  },
  {
   "cell_type": "code",
   "execution_count": 6,
   "id": "2ba59931",
   "metadata": {},
   "outputs": [],
   "source": [
    "shoppingList = [\"milk\",'bread','water',\"apple\"]"
   ]
  },
  {
   "cell_type": "code",
   "execution_count": 7,
   "id": "17dd041f",
   "metadata": {},
   "outputs": [
    {
     "name": "stdout",
     "output_type": "stream",
     "text": [
      "milk\n",
      "bread\n",
      "water\n",
      "apple\n"
     ]
    }
   ],
   "source": [
    "for index in shoppingList:\n",
    "    print(index)"
   ]
  },
  {
   "cell_type": "code",
   "execution_count": 8,
   "id": "128674c5",
   "metadata": {},
   "outputs": [
    {
     "name": "stdout",
     "output_type": "stream",
     "text": [
      "Moe is awesome\n",
      "Moe is awesome\n",
      "Moe is awesome\n",
      "Moe is awesome\n"
     ]
    }
   ],
   "source": [
    "for index in shoppingList:\n",
    "    print('Moe is awesome')"
   ]
  },
  {
   "cell_type": "code",
   "execution_count": 9,
   "id": "d2a4d49f",
   "metadata": {},
   "outputs": [
    {
     "name": "stdout",
     "output_type": "stream",
     "text": [
      "4\n"
     ]
    }
   ],
   "source": [
    "count = 0\n",
    "for index in shoppingList:\n",
    "    count += 1\n",
    "\n",
    "print(count)"
   ]
  },
  {
   "cell_type": "code",
   "execution_count": 11,
   "id": "6cba9f8b",
   "metadata": {},
   "outputs": [
    {
     "name": "stdout",
     "output_type": "stream",
     "text": [
      "the number of items we are going to buy is 4\n"
     ]
    }
   ],
   "source": [
    "print(f\"the number of items we are going to buy is {count}\")"
   ]
  },
  {
   "cell_type": "code",
   "execution_count": 12,
   "id": "cb47d30f",
   "metadata": {},
   "outputs": [],
   "source": [
    "# + - * / \n",
    "# Assignment Operators"
   ]
  },
  {
   "cell_type": "code",
   "execution_count": 13,
   "id": "52f71b6f",
   "metadata": {},
   "outputs": [
    {
     "name": "stdout",
     "output_type": "stream",
     "text": [
      "8\n"
     ]
    }
   ],
   "source": [
    "x = 5\n",
    "x += 3\n",
    "print(x)"
   ]
  },
  {
   "cell_type": "code",
   "execution_count": 14,
   "id": "1d5e3a85",
   "metadata": {},
   "outputs": [],
   "source": [
    "# comparison operators\n",
    "a = 5\n",
    "b = 3"
   ]
  },
  {
   "cell_type": "code",
   "execution_count": 15,
   "id": "a84be02c",
   "metadata": {},
   "outputs": [
    {
     "name": "stdout",
     "output_type": "stream",
     "text": [
      "False\n"
     ]
    }
   ],
   "source": [
    "# less than < \n",
    "print(a<b) \n",
    "# a is greater than b"
   ]
  },
  {
   "cell_type": "code",
   "execution_count": 17,
   "id": "80e36969",
   "metadata": {},
   "outputs": [
    {
     "name": "stdout",
     "output_type": "stream",
     "text": [
      "True\n"
     ]
    }
   ],
   "source": [
    "print(a>b)"
   ]
  },
  {
   "cell_type": "code",
   "execution_count": 18,
   "id": "59dbef07",
   "metadata": {},
   "outputs": [
    {
     "name": "stdout",
     "output_type": "stream",
     "text": [
      "True\n"
     ]
    }
   ],
   "source": [
    "# Greater than or equal >=\n",
    "# Less than or equal <=\n",
    "print(a>=b)"
   ]
  },
  {
   "cell_type": "code",
   "execution_count": 19,
   "id": "2ff2db59",
   "metadata": {},
   "outputs": [
    {
     "name": "stdout",
     "output_type": "stream",
     "text": [
      "True\n"
     ]
    }
   ],
   "source": [
    "# Logical operators\n",
    "print ( 5 >3 and 8>4)"
   ]
  },
  {
   "cell_type": "code",
   "execution_count": 21,
   "id": "302eae8d",
   "metadata": {},
   "outputs": [
    {
     "name": "stdout",
     "output_type": "stream",
     "text": [
      "True\n"
     ]
    }
   ],
   "source": [
    "print ( 5 < 3 or 8>4)\n",
    "# as long as one of them is true"
   ]
  },
  {
   "cell_type": "code",
   "execution_count": null,
   "id": "e11c6d5c",
   "metadata": {},
   "outputs": [],
   "source": []
  }
 ],
 "metadata": {
  "kernelspec": {
   "display_name": "Python 3 (ipykernel)",
   "language": "python",
   "name": "python3"
  },
  "language_info": {
   "codemirror_mode": {
    "name": "ipython",
    "version": 3
   },
   "file_extension": ".py",
   "mimetype": "text/x-python",
   "name": "python",
   "nbconvert_exporter": "python",
   "pygments_lexer": "ipython3",
   "version": "3.9.13"
  }
 },
 "nbformat": 4,
 "nbformat_minor": 5
}
