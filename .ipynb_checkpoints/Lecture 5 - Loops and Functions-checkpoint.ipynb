{
 "cells": [
  {
   "cell_type": "code",
   "execution_count": 2,
   "id": "df0c2c78",
   "metadata": {},
   "outputs": [
    {
     "name": "stdout",
     "output_type": "stream",
     "text": [
      "a is greater than 2 still\n",
      "a is greater than 2 still\n",
      "a is greater than 2 still\n"
     ]
    }
   ],
   "source": [
    "#While\n",
    "a = 5\n",
    "while a > 2:\n",
    "    print('a is greater than 2 still')\n",
    "    a -= 1"
   ]
  },
  {
   "cell_type": "code",
   "execution_count": 5,
   "id": "63bd9050",
   "metadata": {},
   "outputs": [],
   "source": [
    "b = 10;\n",
    "while b < 5:\n",
    "        print(\"b is less than 5\")"
   ]
  },
  {
   "cell_type": "code",
   "execution_count": 6,
   "id": "566e810a",
   "metadata": {},
   "outputs": [],
   "source": [
    "phones = [\"samsung\",\"xiomi\",\"apple\",\"oppo\",\"nokia\"]"
   ]
  },
  {
   "cell_type": "code",
   "execution_count": 7,
   "id": "a0ff9718",
   "metadata": {},
   "outputs": [
    {
     "name": "stdout",
     "output_type": "stream",
     "text": [
      "samsung\n",
      "xiomi\n",
      "apple\n",
      "oppo\n",
      "nokia\n"
     ]
    }
   ],
   "source": [
    "for index in phones:\n",
    "    print(index)"
   ]
  },
  {
   "cell_type": "code",
   "execution_count": 8,
   "id": "14d0add9",
   "metadata": {},
   "outputs": [
    {
     "name": "stdout",
     "output_type": "stream",
     "text": [
      "1\n",
      "2\n",
      "3\n",
      "4\n",
      "5\n",
      "6\n",
      "7\n",
      "8\n",
      "9\n"
     ]
    }
   ],
   "source": [
    "for num in range(1,10):\n",
    "    print(num)"
   ]
  },
  {
   "cell_type": "code",
   "execution_count": 9,
   "id": "f28c3199",
   "metadata": {},
   "outputs": [
    {
     "name": "stdout",
     "output_type": "stream",
     "text": [
      "3\n"
     ]
    }
   ],
   "source": [
    "#function\n",
    "def add(a,b):\n",
    "    c = a+b\n",
    "    print(c)\n",
    "\n",
    "add(1,2)"
   ]
  },
  {
   "cell_type": "code",
   "execution_count": null,
   "id": "ad5c8de1",
   "metadata": {},
   "outputs": [],
   "source": []
  }
 ],
 "metadata": {
  "kernelspec": {
   "display_name": "Python 3 (ipykernel)",
   "language": "python",
   "name": "python3"
  },
  "language_info": {
   "codemirror_mode": {
    "name": "ipython",
    "version": 3
   },
   "file_extension": ".py",
   "mimetype": "text/x-python",
   "name": "python",
   "nbconvert_exporter": "python",
   "pygments_lexer": "ipython3",
   "version": "3.9.13"
  }
 },
 "nbformat": 4,
 "nbformat_minor": 5
}
