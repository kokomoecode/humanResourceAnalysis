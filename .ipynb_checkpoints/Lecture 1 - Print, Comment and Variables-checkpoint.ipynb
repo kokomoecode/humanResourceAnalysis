{
 "cells": [
  {
   "cell_type": "code",
   "execution_count": 1,
   "id": "21ab7087",
   "metadata": {},
   "outputs": [
    {
     "name": "stdout",
     "output_type": "stream",
     "text": [
      "Hello\n"
     ]
    }
   ],
   "source": [
    "print('Hello')\n",
    "# Python Course - Lecture 1 - Print, Comment and Variables\n",
    "# https://www.youtube.com/watch?app=desktop&v=yCASixTyMMY"
   ]
  },
  {
   "cell_type": "code",
   "execution_count": 3,
   "id": "bba61cd3",
   "metadata": {},
   "outputs": [],
   "source": [
    "x = 10\n",
    "# x = 10"
   ]
  },
  {
   "cell_type": "code",
   "execution_count": null,
   "id": "6634a830",
   "metadata": {},
   "outputs": [],
   "source": [
    "y = \"Welcome to the City\""
   ]
  }
 ],
 "metadata": {
  "kernelspec": {
   "display_name": "Python 3 (ipykernel)",
   "language": "python",
   "name": "python3"
  },
  "language_info": {
   "codemirror_mode": {
    "name": "ipython",
    "version": 3
   },
   "file_extension": ".py",
   "mimetype": "text/x-python",
   "name": "python",
   "nbconvert_exporter": "python",
   "pygments_lexer": "ipython3",
   "version": "3.9.13"
  }
 },
 "nbformat": 4,
 "nbformat_minor": 5
}
