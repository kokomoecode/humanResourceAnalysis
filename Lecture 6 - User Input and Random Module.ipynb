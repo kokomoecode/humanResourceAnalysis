{
 "cells": [
  {
   "cell_type": "code",
   "execution_count": 2,
   "id": "48c16016",
   "metadata": {},
   "outputs": [
    {
     "name": "stdout",
     "output_type": "stream",
     "text": [
      "please enter your username Moe\n"
     ]
    }
   ],
   "source": [
    "username = input(\"please enter your username\")"
   ]
  },
  {
   "cell_type": "code",
   "execution_count": 3,
   "id": "ce542321",
   "metadata": {},
   "outputs": [
    {
     "name": "stdout",
     "output_type": "stream",
     "text": [
      " Moe\n"
     ]
    }
   ],
   "source": [
    "print(username)"
   ]
  },
  {
   "cell_type": "code",
   "execution_count": 4,
   "id": "93b9bbab",
   "metadata": {},
   "outputs": [
    {
     "name": "stdout",
     "output_type": "stream",
     "text": [
      "your age? 30\n"
     ]
    }
   ],
   "source": [
    "age = int(input('your age?'))"
   ]
  },
  {
   "cell_type": "code",
   "execution_count": 5,
   "id": "0fd05cdc",
   "metadata": {},
   "outputs": [
    {
     "data": {
      "text/plain": [
       "int"
      ]
     },
     "execution_count": 5,
     "metadata": {},
     "output_type": "execute_result"
    }
   ],
   "source": [
    "type(age)"
   ]
  },
  {
   "cell_type": "code",
   "execution_count": 6,
   "id": "c6520536",
   "metadata": {},
   "outputs": [],
   "source": [
    "trueusername = \"admin1\""
   ]
  },
  {
   "cell_type": "code",
   "execution_count": 7,
   "id": "5df398e2",
   "metadata": {},
   "outputs": [
    {
     "name": "stdout",
     "output_type": "stream",
     "text": [
      "your username?admin1\n",
      "you can enter to the system\n"
     ]
    }
   ],
   "source": [
    "username = str(input(\"your username?\"))\n",
    "if username == trueusername:\n",
    "    print(\"you can enter to the system\")\n",
    "else:\n",
    "    print(\"Access denied\")"
   ]
  },
  {
   "cell_type": "code",
   "execution_count": 8,
   "id": "1b7e50a4",
   "metadata": {},
   "outputs": [],
   "source": [
    "import random"
   ]
  },
  {
   "cell_type": "code",
   "execution_count": 9,
   "id": "cc7f0f9c",
   "metadata": {},
   "outputs": [
    {
     "data": {
      "text/plain": [
       "16"
      ]
     },
     "execution_count": 9,
     "metadata": {},
     "output_type": "execute_result"
    }
   ],
   "source": [
    "random.randint(1,20)"
   ]
  },
  {
   "cell_type": "code",
   "execution_count": 14,
   "id": "29c83e68",
   "metadata": {},
   "outputs": [],
   "source": [
    "whattobuy = [\"Phone\",\"TV\",\"Jacket\",\"Shoe\",\"Car\"]"
   ]
  },
  {
   "cell_type": "code",
   "execution_count": 15,
   "id": "29d3108f",
   "metadata": {},
   "outputs": [
    {
     "data": {
      "text/plain": [
       "'TV'"
      ]
     },
     "execution_count": 15,
     "metadata": {},
     "output_type": "execute_result"
    }
   ],
   "source": [
    "random.choice(whattobuy)"
   ]
  },
  {
   "cell_type": "code",
   "execution_count": 16,
   "id": "92efbfd9",
   "metadata": {},
   "outputs": [],
   "source": [
    "randompick = random.choice(whattobuy)"
   ]
  },
  {
   "cell_type": "code",
   "execution_count": 19,
   "id": "bbc8b7d2",
   "metadata": {},
   "outputs": [
    {
     "name": "stdout",
     "output_type": "stream",
     "text": [
      "I am going to buy a new Jacket\n"
     ]
    }
   ],
   "source": [
    "print('I am going to buy a new ' + randompick)"
   ]
  },
  {
   "cell_type": "code",
   "execution_count": 20,
   "id": "766ae8f5",
   "metadata": {},
   "outputs": [],
   "source": [
    "numberslist = [1,2,3,4,5,6,7,8,9,10,11,12]"
   ]
  },
  {
   "cell_type": "code",
   "execution_count": 21,
   "id": "44a20f15",
   "metadata": {},
   "outputs": [],
   "source": [
    "random.shuffle(numberslist)"
   ]
  },
  {
   "cell_type": "code",
   "execution_count": 22,
   "id": "db2d1307",
   "metadata": {},
   "outputs": [
    {
     "name": "stdout",
     "output_type": "stream",
     "text": [
      "[5, 8, 7, 11, 1, 9, 12, 3, 6, 2, 4, 10]\n"
     ]
    }
   ],
   "source": [
    "print(numberslist)"
   ]
  },
  {
   "cell_type": "code",
   "execution_count": null,
   "id": "1ce109f0",
   "metadata": {},
   "outputs": [],
   "source": []
  }
 ],
 "metadata": {
  "kernelspec": {
   "display_name": "Python 3 (ipykernel)",
   "language": "python",
   "name": "python3"
  },
  "language_info": {
   "codemirror_mode": {
    "name": "ipython",
    "version": 3
   },
   "file_extension": ".py",
   "mimetype": "text/x-python",
   "name": "python",
   "nbconvert_exporter": "python",
   "pygments_lexer": "ipython3",
   "version": "3.9.13"
  }
 },
 "nbformat": 4,
 "nbformat_minor": 5
}
