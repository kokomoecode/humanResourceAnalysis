{
 "cells": [
  {
   "cell_type": "code",
   "execution_count": 1,
   "id": "21ab7087",
   "metadata": {},
   "outputs": [
    {
     "name": "stdout",
     "output_type": "stream",
     "text": [
      "Hello\n"
     ]
    }
   ],
   "source": [
    "print('Hello')\n",
    "# Python Course - Lecture 1 - Print, Comment and Variables\n",
    "# https://www.youtube.com/watch?app=desktop&v=yCASixTyMMY"
   ]
  },
  {
   "cell_type": "code",
   "execution_count": 3,
   "id": "bba61cd3",
   "metadata": {},
   "outputs": [],
   "source": [
    "x = 10\n",
    "# x = 10"
   ]
  },
  {
   "cell_type": "code",
   "execution_count": 5,
   "id": "e0e40035",
   "metadata": {},
   "outputs": [
    {
     "name": "stdout",
     "output_type": "stream",
     "text": [
      "Welcome to the City\n"
     ]
    }
   ],
   "source": [
    "y = \"Welcome to the City\"\n",
    "print(y)"
   ]
  },
  {
   "cell_type": "code",
   "execution_count": 7,
   "id": "62215098",
   "metadata": {},
   "outputs": [
    {
     "data": {
      "text/plain": [
       "int"
      ]
     },
     "execution_count": 7,
     "metadata": {},
     "output_type": "execute_result"
    }
   ],
   "source": [
    "type(x)\n"
   ]
  },
  {
   "cell_type": "code",
   "execution_count": 8,
   "id": "c24d5ae2",
   "metadata": {},
   "outputs": [
    {
     "data": {
      "text/plain": [
       "str"
      ]
     },
     "execution_count": 8,
     "metadata": {},
     "output_type": "execute_result"
    }
   ],
   "source": [
    "type(y)"
   ]
  },
  {
   "cell_type": "code",
   "execution_count": 9,
   "id": "a9e9ecfe",
   "metadata": {},
   "outputs": [],
   "source": [
    "apple, banana, cloud = \"Red\", \"Yellow\", \"White\""
   ]
  },
  {
   "cell_type": "code",
   "execution_count": 10,
   "id": "1a0f257b",
   "metadata": {},
   "outputs": [
    {
     "name": "stdout",
     "output_type": "stream",
     "text": [
      "Red\n"
     ]
    }
   ],
   "source": [
    "print(apple)"
   ]
  },
  {
   "cell_type": "code",
   "execution_count": 11,
   "id": "a6ae1ca8",
   "metadata": {},
   "outputs": [
    {
     "name": "stdout",
     "output_type": "stream",
     "text": [
      "Yellow\n"
     ]
    }
   ],
   "source": [
    "print(banana)"
   ]
  },
  {
   "cell_type": "code",
   "execution_count": 12,
   "id": "c1a78891",
   "metadata": {},
   "outputs": [
    {
     "name": "stdout",
     "output_type": "stream",
     "text": [
      "White\n"
     ]
    }
   ],
   "source": [
    "print(cloud)"
   ]
  },
  {
   "cell_type": "code",
   "execution_count": 13,
   "id": "aa63401f",
   "metadata": {},
   "outputs": [],
   "source": [
    "dog = cat = fish = bird = \"animal\""
   ]
  },
  {
   "cell_type": "code",
   "execution_count": 14,
   "id": "903fb56e",
   "metadata": {},
   "outputs": [
    {
     "name": "stdout",
     "output_type": "stream",
     "text": [
      "animal\n"
     ]
    }
   ],
   "source": [
    "print(dog)"
   ]
  },
  {
   "cell_type": "code",
   "execution_count": 15,
   "id": "30fab692",
   "metadata": {},
   "outputs": [
    {
     "name": "stdout",
     "output_type": "stream",
     "text": [
      "animal\n"
     ]
    }
   ],
   "source": [
    "print(bird)"
   ]
  },
  {
   "cell_type": "code",
   "execution_count": 16,
   "id": "1f7d5270",
   "metadata": {},
   "outputs": [],
   "source": [
    "a = \"welcome\"\n",
    "b = \"to\"\n",
    "c = \"the\"\n",
    "d = \"class\"\n",
    "e = \"!\""
   ]
  },
  {
   "cell_type": "code",
   "execution_count": 19,
   "id": "4cb9cea4",
   "metadata": {},
   "outputs": [
    {
     "name": "stdout",
     "output_type": "stream",
     "text": [
      "welcome to the class !\n"
     ]
    }
   ],
   "source": [
    "print(a , b , c , d , e)"
   ]
  },
  {
   "cell_type": "code",
   "execution_count": 20,
   "id": "bbc82005",
   "metadata": {},
   "outputs": [],
   "source": [
    "number = 5\n",
    "string = \"hello\""
   ]
  },
  {
   "cell_type": "code",
   "execution_count": 21,
   "id": "f5634c70",
   "metadata": {},
   "outputs": [
    {
     "name": "stdout",
     "output_type": "stream",
     "text": [
      "5 hello\n"
     ]
    }
   ],
   "source": [
    "print(number, string)"
   ]
  },
  {
   "cell_type": "code",
   "execution_count": null,
   "id": "1f979b09",
   "metadata": {},
   "outputs": [],
   "source": []
  }
 ],
 "metadata": {
  "kernelspec": {
   "display_name": "Python 3 (ipykernel)",
   "language": "python",
   "name": "python3"
  },
  "language_info": {
   "codemirror_mode": {
    "name": "ipython",
    "version": 3
   },
   "file_extension": ".py",
   "mimetype": "text/x-python",
   "name": "python",
   "nbconvert_exporter": "python",
   "pygments_lexer": "ipython3",
   "version": "3.9.13"
  }
 },
 "nbformat": 4,
 "nbformat_minor": 5
}
