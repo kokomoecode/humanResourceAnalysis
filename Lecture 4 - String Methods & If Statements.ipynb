{
 "cells": [
  {
   "cell_type": "code",
   "execution_count": 1,
   "id": "08ac4638",
   "metadata": {},
   "outputs": [],
   "source": [
    "var1 = \"This is our string\""
   ]
  },
  {
   "cell_type": "code",
   "execution_count": 2,
   "id": "57cce1de",
   "metadata": {},
   "outputs": [
    {
     "name": "stdout",
     "output_type": "stream",
     "text": [
      "This is our string\n"
     ]
    }
   ],
   "source": [
    "print(var1)"
   ]
  },
  {
   "cell_type": "code",
   "execution_count": 3,
   "id": "58bb5cab",
   "metadata": {},
   "outputs": [],
   "source": [
    "text = \"Python is great!\""
   ]
  },
  {
   "cell_type": "code",
   "execution_count": 4,
   "id": "47981aac",
   "metadata": {},
   "outputs": [
    {
     "data": {
      "text/plain": [
       "'t'"
      ]
     },
     "execution_count": 4,
     "metadata": {},
     "output_type": "execute_result"
    }
   ],
   "source": [
    "text[2]"
   ]
  },
  {
   "cell_type": "code",
   "execution_count": 5,
   "id": "18ea80c3",
   "metadata": {},
   "outputs": [
    {
     "data": {
      "text/plain": [
       "' is great!'"
      ]
     },
     "execution_count": 5,
     "metadata": {},
     "output_type": "execute_result"
    }
   ],
   "source": [
    "text[6:]"
   ]
  },
  {
   "cell_type": "code",
   "execution_count": 6,
   "id": "06767394",
   "metadata": {},
   "outputs": [
    {
     "data": {
      "text/plain": [
       "' is'"
      ]
     },
     "execution_count": 6,
     "metadata": {},
     "output_type": "execute_result"
    }
   ],
   "source": [
    "text[6:9]"
   ]
  },
  {
   "cell_type": "code",
   "execution_count": 7,
   "id": "da892a97",
   "metadata": {},
   "outputs": [],
   "source": [
    "var2 = \"watermelon\""
   ]
  },
  {
   "cell_type": "code",
   "execution_count": 8,
   "id": "7250d049",
   "metadata": {},
   "outputs": [
    {
     "name": "stdout",
     "output_type": "stream",
     "text": [
      "w\n",
      "a\n",
      "t\n",
      "e\n",
      "r\n",
      "m\n",
      "e\n",
      "l\n",
      "o\n",
      "n\n"
     ]
    }
   ],
   "source": [
    "for index in var2:\n",
    "    print(index)"
   ]
  },
  {
   "cell_type": "code",
   "execution_count": 9,
   "id": "2569d3e5",
   "metadata": {},
   "outputs": [
    {
     "data": {
      "text/plain": [
       "11"
      ]
     },
     "execution_count": 9,
     "metadata": {},
     "output_type": "execute_result"
    }
   ],
   "source": [
    "sample = \"unstoppable\"\n",
    "len(sample)"
   ]
  },
  {
   "cell_type": "code",
   "execution_count": 11,
   "id": "a7bdb6f7",
   "metadata": {},
   "outputs": [
    {
     "data": {
      "text/plain": [
       "'e'"
      ]
     },
     "execution_count": 11,
     "metadata": {},
     "output_type": "execute_result"
    }
   ],
   "source": [
    "sample[10]"
   ]
  },
  {
   "cell_type": "code",
   "execution_count": 14,
   "id": "f13f1d03",
   "metadata": {},
   "outputs": [],
   "source": [
    "example1 = \"I don't think that stock of X company will increase in price\""
   ]
  },
  {
   "cell_type": "code",
   "execution_count": 15,
   "id": "bc2a1d32",
   "metadata": {},
   "outputs": [
    {
     "name": "stdout",
     "output_type": "stream",
     "text": [
      "True\n"
     ]
    }
   ],
   "source": [
    "print('stock'in example1)"
   ]
  },
  {
   "cell_type": "code",
   "execution_count": 16,
   "id": "f9692280",
   "metadata": {},
   "outputs": [
    {
     "name": "stdout",
     "output_type": "stream",
     "text": [
      "True\n"
     ]
    }
   ],
   "source": [
    "print('moe' not in example1)"
   ]
  },
  {
   "cell_type": "code",
   "execution_count": 17,
   "id": "5cf23059",
   "metadata": {},
   "outputs": [],
   "source": [
    "a, b = 50, 10"
   ]
  },
  {
   "cell_type": "code",
   "execution_count": 18,
   "id": "e663b0e8",
   "metadata": {},
   "outputs": [
    {
     "name": "stdout",
     "output_type": "stream",
     "text": [
      "a is bigger\n"
     ]
    }
   ],
   "source": [
    "if a > b:\n",
    "    print('a is bigger')"
   ]
  },
  {
   "cell_type": "code",
   "execution_count": 20,
   "id": "4755bce5",
   "metadata": {},
   "outputs": [
    {
     "name": "stdout",
     "output_type": "stream",
     "text": [
      "eat rice\n"
     ]
    }
   ],
   "source": [
    "money = 20\n",
    "if money >= 30:\n",
    "    print('You have money to eat outside today')\n",
    "else:\n",
    "    print('eat rice')"
   ]
  },
  {
   "cell_type": "code",
   "execution_count": null,
   "id": "717675f7",
   "metadata": {},
   "outputs": [],
   "source": []
  }
 ],
 "metadata": {
  "kernelspec": {
   "display_name": "Python 3 (ipykernel)",
   "language": "python",
   "name": "python3"
  },
  "language_info": {
   "codemirror_mode": {
    "name": "ipython",
    "version": 3
   },
   "file_extension": ".py",
   "mimetype": "text/x-python",
   "name": "python",
   "nbconvert_exporter": "python",
   "pygments_lexer": "ipython3",
   "version": "3.9.13"
  }
 },
 "nbformat": 4,
 "nbformat_minor": 5
}
